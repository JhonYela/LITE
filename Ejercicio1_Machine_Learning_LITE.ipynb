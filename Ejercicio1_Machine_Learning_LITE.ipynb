{
  "nbformat": 4,
  "nbformat_minor": 0,
  "metadata": {
    "kernelspec": {
      "display_name": "Python 3",
      "language": "python",
      "name": "python3"
    },
    "language_info": {
      "codemirror_mode": {
        "name": "ipython",
        "version": 3
      },
      "file_extension": ".py",
      "mimetype": "text/x-python",
      "name": "python",
      "nbconvert_exporter": "python",
      "pygments_lexer": "ipython3",
      "version": "3.6.8"
    },
    "colab": {
      "provenance": [],
      "toc_visible": true
    }
  },
  "cells": [
    {
      "cell_type": "markdown",
      "source": [
        "# Antes del repaso en Python\n",
        "Los siguientes ejercicios permitirán comprobar el conocimiento básico en Python.\n",
        "\n",
        "Si no recuerda algún concepto o quiere profundizar recomiendo revisar **W3 schools**:\n",
        "* Python https://www.w3schools.com/python/\n",
        "* Numpy  https://www.w3schools.com/python/numpy/\n",
        "* Pandas https://www.w3schools.com/python/pandas/"
      ],
      "metadata": {
        "id": "8Mn-bcmLaSSS"
      }
    },
    {
      "cell_type": "markdown",
      "metadata": {
        "id": "v9MYuY_8BaFM"
      },
      "source": [
        "## Ejercicio 1\n",
        "\n",
        "Escriba una función que encuentre todos los numeros que son divisibles por $7$ pero no son un multiplo de $5$ entre un rango especificado por parámetro (ambos números seben incluirse).  Esta función retorna una lista.\n",
        "\n",
        "**Ayuda:**\n",
        "Considere el uso de la función `range()`"
      ]
    },
    {
      "cell_type": "code",
      "metadata": {
        "id": "kbm1Uy8MBaFP",
        "colab": {
          "base_uri": "https://localhost:8080/"
        },
        "outputId": "82af349f-de68-4da5-a97b-44d441c2c2e2"
      },
      "source": [
        "def function_numbers(begin, end):\n",
        "    numbers = []\n",
        "    for num in range(begin, end + 1):\n",
        "        if num % 7 == 0 and num % 5 != 0:\n",
        "            numbers.append(num)\n",
        "    return numbers\n",
        "print(function_numbers(2,50))"
      ],
      "execution_count": null,
      "outputs": [
        {
          "output_type": "stream",
          "name": "stdout",
          "text": [
            "[7, 14, 21, 28, 42, 49]\n"
          ]
        }
      ]
    },
    {
      "cell_type": "code",
      "source": [
        "\"\"\"\n",
        "Se inicializa una lista vacía llamada numbers.\n",
        "Se utiliza un bucle for que itera sobre el rango de números desde begin hasta end (ambos inclusive).\n",
        "Para cada número en el rango, se verifica si es divisible por 7 (num % 7 == 0) y no es múltiplo de 5 (num % 5 != 0).\n",
        "Si ambas condiciones se cumplen, el número se añade a la lista numbers.\n",
        "Finalmente, la función retorna la lista numbers.\n",
        "\"\"\"\n"
      ],
      "metadata": {
        "id": "F8OI1ymKXyqq"
      },
      "execution_count": null,
      "outputs": []
    },
    {
      "cell_type": "markdown",
      "metadata": {
        "id": "rNsD_tXRBaFW"
      },
      "source": [
        "## Ejercicio 2\n",
        "\n",
        "Dado un numero $n$, escriba una función que retorne un diccionario que contenga $(i,i*i)$, donde $i$ es un numero entero entre $1$ y $n$ ( ambos se incluyen )."
      ]
    },
    {
      "cell_type": "code",
      "metadata": {
        "id": "v_dLLYgvBaFX",
        "colab": {
          "base_uri": "https://localhost:8080/"
        },
        "outputId": "facbb4c4-611b-454d-c2f8-40f333db9e01"
      },
      "source": [
        "def function_dictionary(n):\n",
        "    dictionary = {}\n",
        "    for i in range(1, n + 1):\n",
        "        dictionary[i] = i * i\n",
        "    return dictionary\n",
        "print(function_dictionary(10))"
      ],
      "execution_count": null,
      "outputs": [
        {
          "output_type": "stream",
          "name": "stdout",
          "text": [
            "{1: 1, 2: 4, 3: 9, 4: 16, 5: 25, 6: 36, 7: 49, 8: 64, 9: 81, 10: 100}\n"
          ]
        }
      ]
    },
    {
      "cell_type": "markdown",
      "source": [
        "Se inicializa un diccionario vacío llamado dictionary.\n",
        "Se utiliza un bucle for que itera sobre el rango de números desde 1 hasta\n",
        "𝑛\n",
        "n (ambos inclusive).\n",
        "Para cada número\n",
        "𝑖\n",
        "i en el rango, se añade una entrada al diccionario donde la clave es\n",
        "𝑖\n",
        "i y el valor es\n",
        "𝑖\n",
        "×\n",
        "𝑖\n",
        "i×i.\n",
        "Finalmente, la función retorna el diccionario."
      ],
      "metadata": {
        "id": "t0pawVFDYx1v"
      }
    },
    {
      "cell_type": "markdown",
      "metadata": {
        "id": "gB3ilBX1BaFc"
      },
      "source": [
        "## Ejercicio 3\n",
        "\n",
        "Escriba una función que calcule un valor según una formula dada:\n",
        "\n",
        "$Q = \\sqrt{ \\frac{2*C*D}{H} }$\n",
        "\n",
        "$C$ es un número entero.\n",
        "\n",
        "$H$ es un número entero.\n",
        "\n",
        "$D$ es una lista numeros pueden ser enteros y decimales.\n",
        "\n",
        "La función debe de retornar el valor de $Q$ para cada uno de los valores $D$ definidos en la lista, devuelve una lista de solo enteros."
      ]
    },
    {
      "cell_type": "code",
      "metadata": {
        "id": "8v7rvilsBaFd"
      },
      "source": [
        "import math\n",
        "\n",
        "def function_formula(c, h, d_list):\n",
        "    results = []\n",
        "    for d in d_list:\n",
        "        q = math.sqrt((2 * c * d) / h)\n",
        "        results.append(int(q))\n",
        "    return results"
      ],
      "execution_count": null,
      "outputs": []
    },
    {
      "cell_type": "code",
      "metadata": {
        "id": "PNPxj7RWBaFf",
        "colab": {
          "base_uri": "https://localhost:8080/"
        },
        "outputId": "62e52f98-fd15-405f-9d02-4f1dd456e4dd"
      },
      "source": [
        "C = 50\n",
        "H = 30\n",
        "D = [100,150.5,180]\n",
        "\n",
        "print(function_formula(C, H, D))"
      ],
      "execution_count": null,
      "outputs": [
        {
          "output_type": "stream",
          "name": "stdout",
          "text": [
            "[18, 22, 24]\n"
          ]
        }
      ]
    },
    {
      "cell_type": "markdown",
      "source": [
        "Se importa el módulo math para usar la función math.sqrt que calcula la raíz cuadrada.\n",
        "Se inicializa una lista vacía llamada results para almacenar los resultados.\n",
        "Se itera sobre cada valor\n",
        "𝑑\n",
        "d en d_list.\n",
        "Para cada\n",
        "𝑑\n",
        "d, se calcula el valor de\n",
        "𝑄\n",
        "Q usando la fórmula dada.\n",
        "El valor de\n",
        "𝑄\n",
        "Q se convierte a un entero usando int() y se agrega a la lista results.\n",
        "Finalmente, la función retorna la lista results."
      ],
      "metadata": {
        "id": "9AZRDUUpZi82"
      }
    },
    {
      "cell_type": "markdown",
      "metadata": {
        "id": "sVVzbweCBaFh"
      },
      "source": [
        "## Ejercicio 4\n",
        "\n",
        "Escribe una función que tome 2 digitos $X$ y $Y$ como una entrada para generar una matriz de $X$ filas y $Y$ columnas. Cada uno de los elementos en la matriz será la multiplicación del número de la fila por el número de la columna, la función retorna un `numpy.array`."
      ]
    },
    {
      "cell_type": "code",
      "metadata": {
        "id": "a8CSQpgMBaFi"
      },
      "source": [
        "import numpy as np\n",
        "\n",
        "def function_array(x, y):\n",
        "    array = np.zeros((x, y))\n",
        "\n",
        "    for i in range(x):\n",
        "        for j in range(y):\n",
        "            array[i, j] = i * j\n",
        "\n",
        "    return array"
      ],
      "execution_count": null,
      "outputs": []
    },
    {
      "cell_type": "code",
      "metadata": {
        "id": "moxOUoDxBaFk",
        "colab": {
          "base_uri": "https://localhost:8080/"
        },
        "outputId": "670c8aa0-db02-4680-8097-d9ec1e936656"
      },
      "source": [
        "print(function_array(3, 5))\n",
        "print(type(function_array(3, 5)))"
      ],
      "execution_count": null,
      "outputs": [
        {
          "output_type": "stream",
          "name": "stdout",
          "text": [
            "[[0. 0. 0. 0. 0.]\n",
            " [0. 1. 2. 3. 4.]\n",
            " [0. 2. 4. 6. 8.]]\n",
            "<class 'numpy.ndarray'>\n"
          ]
        }
      ]
    },
    {
      "cell_type": "markdown",
      "metadata": {
        "id": "3InPCS41BaFm"
      },
      "source": [
        "**Deberia de tener el siguiente resultado:**\n",
        "```\n",
        "[[0. 0. 0. 0. 0.]\n",
        " [0. 1. 2. 3. 4.]\n",
        " [0. 2. 4. 6. 8.]]\n",
        "<class 'numpy.ndarray'>\n",
        "```"
      ]
    },
    {
      "cell_type": "markdown",
      "metadata": {
        "id": "GSiElnQhBaFn"
      },
      "source": [
        "## Ejercicio 5\n",
        "\n",
        "Escribir una función que ordene tuplas (nombre, edad, estatura) de manera ascendente. Como parametro de entrada tiene la lista de tuplas y un numero que indica por que valor desea ordenar.  El criterio para ordenar es:\n",
        "\n",
        "1. Ordenar por nombre ( recibe 0 )\n",
        "2. Ordenar por edad ( recibe 1 )\n",
        "3. Ordenar por estatura ( recibe 2 )"
      ]
    },
    {
      "cell_type": "code",
      "metadata": {
        "id": "LG53w7JsBaFn"
      },
      "source": [
        "def function_sorter(tuples_list, pos):\n",
        "    sorted_list = sorted(tuples_list, key=lambda x: x[pos])\n",
        "    # CODE HERE\n",
        "    return sorted_list"
      ],
      "execution_count": null,
      "outputs": []
    },
    {
      "cell_type": "code",
      "metadata": {
        "id": "uYbIloJMBaFq",
        "colab": {
          "base_uri": "https://localhost:8080/"
        },
        "outputId": "74b53104-e533-4629-b47e-9f3cea9691c6"
      },
      "source": [
        "tuplas = [('John', '20', '90'), ('Jony', '17', '91'), ('Jony', '17', '93'), ('Json', '21', '85'), ('Tom', '19', '80')]\n",
        "\n",
        "print(function_sorter(tuplas, 0))\n",
        "print(function_sorter(tuplas, 1))\n",
        "print(function_sorter(tuplas, 2))"
      ],
      "execution_count": null,
      "outputs": [
        {
          "output_type": "stream",
          "name": "stdout",
          "text": [
            "[('John', '20', '90'), ('Jony', '17', '91'), ('Jony', '17', '93'), ('Json', '21', '85'), ('Tom', '19', '80')]\n",
            "[('Jony', '17', '91'), ('Jony', '17', '93'), ('Tom', '19', '80'), ('John', '20', '90'), ('Json', '21', '85')]\n",
            "[('Tom', '19', '80'), ('Json', '21', '85'), ('John', '20', '90'), ('Jony', '17', '91'), ('Jony', '17', '93')]\n"
          ]
        }
      ]
    },
    {
      "cell_type": "markdown",
      "metadata": {
        "id": "iTwsksJVBaFs"
      },
      "source": [
        "**Deberia de tener el siguiente resultado:**\n",
        "```\n",
        "[('John', '20', '90'), ('Jony', '17', '91'), ('Jony', '17', '93'), ('Json', '21', '85'), ('Tom', '19', '80')]\n",
        "[('Jony', '17', '91'), ('Jony', '17', '93'), ('Tom', '19', '80'), ('John', '20', '90'), ('Json', '21', '85')]\n",
        "[('Tom', '19', '80'), ('Json', '21', '85'), ('John', '20', '90'), ('Jony', '17', '91'), ('Jony', '17', '93')]\n",
        "```"
      ]
    },
    {
      "cell_type": "code",
      "source": [
        "def function_sorter(tuples_list, pos):\n",
        "    sorted_list = None\n",
        "    # CODE HERE\n",
        "    return sorted_list"
      ],
      "metadata": {
        "id": "Ynurr78EdHZ1"
      },
      "execution_count": null,
      "outputs": []
    }
  ]
}